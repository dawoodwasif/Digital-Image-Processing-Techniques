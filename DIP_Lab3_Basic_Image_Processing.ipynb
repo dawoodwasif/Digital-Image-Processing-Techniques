{
  "cells": [
    {
      "cell_type": "markdown",
      "metadata": {
        "id": "view-in-github",
        "colab_type": "text"
      },
      "source": [
        "<a href=\"https://colab.research.google.com/github/dawoodwasif/Digital-Image-Processing-Techniques/blob/main/DIP_Lab3_Basic_Image_Processing.ipynb\" target=\"_parent\"><img src=\"https://colab.research.google.com/assets/colab-badge.svg\" alt=\"Open In Colab\"/></a>"
      ]
    },
    {
      "cell_type": "markdown",
      "source": [
        "## Task # 1: **Image Binarization using a predefined global threshold**"
      ],
      "metadata": {
        "id": "hbsWzJZ6oSu3"
      }
    },
    {
      "cell_type": "code",
      "execution_count": null,
      "metadata": {
        "id": "z0evdi3hoIbj"
      },
      "outputs": [],
      "source": [
        "#import required packages\n",
        "import numpy as np\n",
        "from PIL import Image\n",
        "\n",
        "#function to binarize an image\n",
        "def binarize(img):\n",
        "    threshold = 128 #set the custom threshold value to 128\n",
        "    w,h = img.size #set width and height of the image using size function\n",
        "    gray_img = np.array(img.convert('L')) # first convert the image to grayscale and then to 2d numpy array to make thresholding easier\n",
        "    \n",
        "    #use double for loop to iterate each pixel\n",
        "    for i in range(h):\n",
        "        for j in range(w):\n",
        "            #if the pixel value is greater than the threshold then set it to maximum value\n",
        "            if (gray_img[i][j] > threshold):\n",
        "                gray_img[i][j] = 255\n",
        "\n",
        "            #else if the pixel value is lesser than the threshold then set it to minimum value\n",
        "            else:\n",
        "                gray_img[i][j] = 0\n",
        "    #return the binarized image from the numpy 2d array\n",
        "    return Image.fromarray(np.uint8(gray_img))\n",
        "                \n",
        "    \n",
        "input = Image.open('B3.jpg') #read the image\n",
        "input.show() # display original image\n",
        "binarize(input).show() # display binarized image\n"
      ]
    },
    {
      "cell_type": "markdown",
      "source": [
        "## Task # 2: **Create Intensity Histogram from a Greyscale image**"
      ],
      "metadata": {
        "id": "ZF0FoUoAoh08"
      }
    },
    {
      "cell_type": "code",
      "execution_count": null,
      "metadata": {
        "id": "sO1qR5c5oIbr",
        "outputId": "1521cffe-526c-4643-c1fe-25e94a3d9b32"
      },
      "outputs": [
        {
          "data": {
            "image/png": "[encoded data removed]",
            "text/plain": [
              "<Figure size 432x288 with 1 Axes>"
            ]
          },
          "metadata": {
            "needs_background": "light"
          },
          "output_type": "display_data"
        }
      ],
      "source": [
        "#import required packages\n",
        "from PIL import Image\n",
        "import matplotlib.pyplot as plt\n",
        "\n",
        "#read the input image and convert to grayscale to get uniform intensity of each pixel\n",
        "input = Image.open('B2.jpg').convert('L')\n",
        "\n",
        "hist = {} #a set for histogram named hist\n",
        "w,h = input.size #set width and height of the image using size function\n",
        "\n",
        "#initialize the hisogram set with zeroes\n",
        "for p in range(256):\n",
        "    hist[p] = 0\n",
        "#use double for loop to iterate each pixel\n",
        "for i in range(w):\n",
        "    for j in range(h):\n",
        "        coordinate = (i,j) #make a coordinate of two variables i and j\n",
        "        hist[(input.getpixel(coordinate))] += 1 #getpixel function provides image data at pixel level which is incremented in case a sampe intensity pixel value is found\n",
        "\n",
        "fig = plt.figure() #define an instance of a figure\n",
        "plt.bar([i for i in range (256)], hist.values() ) #plot the bar graph using 255 values in the x axis and the intensity levels on y axis\n",
        "plt.show() # display the histogram"
      ]
    },
    {
      "cell_type": "markdown",
      "source": [
        "## Task # 3: **Recursive XY-cut algorithm** "
      ],
      "metadata": {
        "id": "DkXuIm-WolEJ"
      }
    },
    {
      "cell_type": "code",
      "execution_count": null,
      "metadata": {
        "id": "yD0v9Jn3oIbt"
      },
      "outputs": [],
      "source": [
        "# Important Imports\n",
        "import numpy as np\n",
        "from PIL import Image\n",
        "from scipy.signal import find_peaks\n",
        "\n",
        "# image = PIL.Image, n = Number of Segments\n",
        "# ignoreBottomTop = Segmentation of top and bottom of Image\n",
        "# axis = 0 (for vertical-lines) or 1 (for horizontal-lines)\n",
        "# Returns a gray image, PIL Image.\n",
        "def recursiveXYCut(image, n, ignoreBottomTop = True, axis = 1):\n",
        "    image = image.convert('L')\n",
        "    image_arr = np.asarray(image)\n",
        "    # distance for peaks\n",
        "    distance = image_arr.shape[0 if axis == 1 else 1]/n\n",
        "    # Sum the pixels along given axis\n",
        "    sum_vals = image_arr.sum(axis = axis)\n",
        "    # Get the indices of the peaks\n",
        "    peaks, _ = find_peaks(sum_vals, distance=distance)\n",
        "    # Temp variable to create segment lines i.e. 0 out the required values.\n",
        "    temp = np.ones(image_arr.shape)\n",
        "    # Skip top and bottom segmentation or not (depends on the param)\n",
        "    #for peak in peaks[1:-1 if ignoreBottomTop else ]:\n",
        "    for peak in peaks[1:-1] if ignoreBottomTop else peaks:\n",
        "        if axis == 1:\n",
        "            temp[range(peak-2, peak+2)] = 0\n",
        "        else:\n",
        "            temp[:, range(peak-2, peak+2)] = 0\n",
        "    return Image.fromarray(np.uint8(image_arr * temp))\n",
        "\n",
        "input = Image.open('XY-cuts.png')\n",
        "input.show()\n",
        "recursiveXYCut(input, 6).show()"
      ]
    },
    {
      "cell_type": "code",
      "execution_count": null,
      "metadata": {
        "id": "K1XYYf9eoIbv",
        "outputId": "9140c1b7-c294-463f-e4a7-ef957fa2dad6"
      },
      "outputs": [
        {
          "data": {
            "image/png": "[encoded data removed]",
            "text/plain": [
              "<Figure size 432x288 with 1 Axes>"
            ]
          },
          "metadata": {
            "needs_background": "light"
          },
          "output_type": "display_data"
        }
      ],
      "source": [
        "#import required packages\n",
        "import cv2\n",
        "import numpy as np \n",
        "import matplotlib.pyplot as plt\n",
        "\n",
        "input = cv2.imread(\"XY-cuts.png\", 0) #read image using opencv and convert RGB to Grayscale to obtain direct intensities by setting flag to 0\n",
        "img = 255-img #obtain negative of image to obtain peaks where post of the black pixels are present as black pixel has 0 intensity value\n",
        "\n",
        "img_row_sum = np.sum(img,axis=1).tolist() #convert the sum of pixels value into a single list by height(since axis is 1)\n",
        "h, w = img.shape #set height and width of the image using shape function\n",
        "\n",
        "fig = plt.figure() #define an instance of a figure\n",
        "plt.bar([i for i in range (h)], img_row_sum) #plot the bar graph using 255 values in the x axis and the sum of intensities on y axis\n",
        "plt.show() #display the histogram"
      ]
    },
    {
      "cell_type": "code",
      "execution_count": null,
      "metadata": {
        "id": "u-__3msUoIbw"
      },
      "outputs": [],
      "source": [
        "line = [140, 265, 390] # select custom vales manually from the histogram with lowest intensities\n",
        "input = (Image.open('XY-cuts.png')).convert('L') # read image into input varaible and convert to grayscale to get consistent intensities\n",
        "w,h = input.size #set width and height of the image using size function\n",
        "output = np.array(input) #convert image to a 2d array\n",
        "\n",
        "#use double for loop to iterate the list and then x axis of the image\n",
        "for i in line:\n",
        "    for j in range(w):\n",
        "            output[i][j] = 0 #blacken the whole line of the specified y coordinates in the list to segregate the image\n",
        "\n",
        "output_img = Image.fromarray(np.uint8(output)) #convert image back from 2d array\n",
        "output_img.show() #display the output image\n",
        "\n",
        "            "
      ]
    },
    {
      "cell_type": "code",
      "execution_count": null,
      "metadata": {
        "id": "SrewEjRfoIbw",
        "outputId": "639aa96c-d8cf-4971-b3d4-dc6712b8ce2d"
      },
      "outputs": [
        {
          "data": {
            "image/png": "[encoded data removed]",
            "text/plain": [
              "<Figure size 432x288 with 1 Axes>"
            ]
          },
          "metadata": {
            "needs_background": "light"
          },
          "output_type": "display_data"
        }
      ],
      "source": [
        "import cv2\n",
        "from matplotlib import pyplot as plt\n",
        "img = cv2.imread('B2.jpg',0)\n",
        "histogram = cv2.calcHist([img],[0],None,[256],[0,256])\n",
        "plt.plot(histogram)\n",
        "plt.show()"
      ]
    }
  ],
  "metadata": {
    "kernelspec": {
      "display_name": "Python 3",
      "language": "python",
      "name": "python3"
    },
    "language_info": {
      "codemirror_mode": {
        "name": "ipython",
        "version": 3
      },
      "file_extension": ".py",
      "mimetype": "text/x-python",
      "name": "python",
      "nbconvert_exporter": "python",
      "pygments_lexer": "ipython3",
      "version": "3.7.3"
    },
    "colab": {
      "name": "DIP Lab3 - Basic Image Processing.ipynb",
      "provenance": [],
      "include_colab_link": true
    }
  },
  "nbformat": 4,
  "nbformat_minor": 0
}